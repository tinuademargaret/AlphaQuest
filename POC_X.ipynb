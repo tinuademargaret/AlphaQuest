{
  "cells": [
    {
      "cell_type": "markdown",
      "metadata": {
        "id": "view-in-github",
        "colab_type": "text"
      },
      "source": [
        "<a href=\"https://colab.research.google.com/github/tinumide/AlphaQuest/blob/develop/POC_X.ipynb\" target=\"_parent\"><img src=\"https://colab.research.google.com/assets/colab-badge.svg\" alt=\"Open In Colab\"/></a>"
      ]
    },
    {
      "cell_type": "code",
      "execution_count": null,
      "metadata": {
        "id": "QMCLqdf4ve5k"
      },
      "outputs": [],
      "source": [
        "!pip install datasets\n",
        "!pip install transformers"
      ]
    },
    {
      "cell_type": "code",
      "source": [
        "!pip install sacrebleu\n",
        "!pip install evaluate"
      ],
      "metadata": {
        "id": "_4etolzG8MAo"
      },
      "execution_count": null,
      "outputs": []
    },
    {
      "cell_type": "code",
      "source": [
        "!pip install rouge_score"
      ],
      "metadata": {
        "id": "Puqjd0bSazeF"
      },
      "execution_count": null,
      "outputs": []
    },
    {
      "cell_type": "code",
      "execution_count": null,
      "metadata": {
        "id": "YaqFaKg1GjH8"
      },
      "outputs": [],
      "source": [
        "import os\n",
        "\n",
        "import torch\n",
        "import numpy as np\n",
        "import evaluate\n",
        "\n",
        "\n",
        "from datasets import load_dataset\n",
        "from transformers import (\n",
        "    AdamW,\n",
        "    AutoTokenizer, \n",
        "    DataCollatorForSeq2Seq,\n",
        "    get_scheduler,\n",
        "    GPT2LMHeadModel,\n",
        "    GPT2Tokenizer, \n",
        ")\n",
        "from torch.utils.data import DataLoader, Dataset\n",
        "from tqdm.auto import tqdm\n",
        "\n",
        "device = torch.device(\"cpu\")\n",
        "if torch.cuda.is_available():\n",
        "    device = torch.device(\"cuda\")"
      ]
    },
    {
      "cell_type": "code",
      "execution_count": null,
      "metadata": {
        "id": "y8IvkEz1znVF"
      },
      "outputs": [],
      "source": [
        "dataset = load_dataset(\"deepmind/code_contests\")"
      ]
    },
    {
      "cell_type": "code",
      "source": [
        "dataset = dataset.flatten()"
      ],
      "metadata": {
        "id": "jSBBULAmjeTi"
      },
      "execution_count": null,
      "outputs": []
    },
    {
      "cell_type": "code",
      "source": [
        "dataset = dataset.remove_columns(['name',\n",
        " 'public_tests.input',\n",
        " 'public_tests.output',\n",
        " 'private_tests.input',\n",
        " 'private_tests.output',\n",
        " 'generated_tests.input',\n",
        " 'generated_tests.output',\n",
        " 'source',\n",
        " 'difficulty',\n",
        " 'solutions.language',\n",
        " 'incorrect_solutions.language',\n",
        " 'incorrect_solutions.solution',\n",
        " 'cf_contest_id',\n",
        " 'cf_index',\n",
        " 'cf_points',\n",
        " 'cf_rating',\n",
        " 'cf_tags',\n",
        " 'is_description_translated',\n",
        " 'untranslated_description',\n",
        " 'time_limit.seconds',\n",
        " 'time_limit.nanos',\n",
        " 'memory_limit_bytes',\n",
        " 'input_file',\n",
        " 'output_file'])\n"
      ],
      "metadata": {
        "id": "Io59nNszjsFf"
      },
      "execution_count": null,
      "outputs": []
    },
    {
      "cell_type": "code",
      "source": [
        "dataset = dataset.filter(lambda example: len(example['solutions.solution']) > 0)"
      ],
      "metadata": {
        "id": "eyWoN4jnnkiU"
      },
      "execution_count": null,
      "outputs": []
    },
    {
      "cell_type": "code",
      "source": [
        "def prep(example):\n",
        "  if example[\"solutions.solution\"][0]:\n",
        "    example[\"solutions.solution\"] = example[\"solutions.solution\"][0]\n",
        "  return example\n",
        "\n",
        "dataset = dataset.map(prep)"
      ],
      "metadata": {
        "id": "YusMaoL0IifS"
      },
      "execution_count": null,
      "outputs": []
    },
    {
      "cell_type": "code",
      "source": [
        "tokenizer = GPT2Tokenizer.from_pretrained('gpt2-medium', padding_side='left')"
      ],
      "metadata": {
        "id": "0x-aqqlxj8VP"
      },
      "execution_count": null,
      "outputs": []
    },
    {
      "cell_type": "code",
      "source": [
        "def tokenize_data(example):\n",
        "  return tokenizer(example[\"solutions.solution\"], text_target=example['description'], max_length=500, truncation=True, padding=True)\n"
      ],
      "metadata": {
        "id": "bjQq9LfTj_GL"
      },
      "execution_count": null,
      "outputs": []
    },
    {
      "cell_type": "code",
      "source": [
        "tokenizer.add_special_tokens({'pad_token': '[PAD]'})\n",
        "tokenized_data = dataset.map(tokenize_data, batched=True)"
      ],
      "metadata": {
        "id": "PJb7HedQkNYS"
      },
      "execution_count": null,
      "outputs": []
    },
    {
      "cell_type": "code",
      "source": [
        "tokenized_data.set_format(\"torch\")\n",
        "tokenized_data[\"train\"].column_names"
      ],
      "metadata": {
        "colab": {
          "base_uri": "https://localhost:8080/"
        },
        "id": "jUJQ7QGVmmSi",
        "outputId": "80a6e39e-2612-4bfa-c154-1f5ede7c59da"
      },
      "execution_count": null,
      "outputs": [
        {
          "output_type": "execute_result",
          "data": {
            "text/plain": [
              "['description', 'solutions.solution', 'input_ids', 'attention_mask', 'labels']"
            ]
          },
          "metadata": {},
          "execution_count": 12
        }
      ]
    },
    {
      "cell_type": "code",
      "source": [
        "tokenized_data = tokenized_data.remove_columns([\"description\", \"solutions.solution\"])"
      ],
      "metadata": {
        "id": "0Y6OSSQ_kjZi"
      },
      "execution_count": null,
      "outputs": []
    },
    {
      "cell_type": "code",
      "execution_count": null,
      "metadata": {
        "id": "DJRyZ5E6OWJS"
      },
      "outputs": [],
      "source": [
        "model = GPT2LMHeadModel.from_pretrained('gpt2-medium')\n",
        "model = model.to(device)\n",
        "model.resize_token_embeddings(len(tokenizer))"
      ]
    },
    {
      "cell_type": "code",
      "source": [
        "data_collator = DataCollatorForSeq2Seq(tokenizer, model=model)\n",
        "\n",
        "train_dataloader = DataLoader(\n",
        "    tokenized_data[\"train\"], shuffle=True, batch_size=1, collate_fn=data_collator)\n",
        "eval_dataloader = DataLoader(\n",
        "    tokenized_data[\"valid\"], batch_size=1, collate_fn=data_collator\n",
        ")"
      ],
      "metadata": {
        "id": "FfE1QKzJk7K3"
      },
      "execution_count": null,
      "outputs": []
    },
    {
      "cell_type": "code",
      "source": [
        "tokenizer.pad_token = tokenizer.eos_token\n",
        "for batch in train_dataloader:\n",
        "    break\n",
        "{k: v.shape for k, v in batch.items()}"
      ],
      "metadata": {
        "colab": {
          "base_uri": "https://localhost:8080/"
        },
        "id": "a36Rplx4lHVN",
        "outputId": "c97efff9-486b-4bf6-a1fd-1e0571fe76ba"
      },
      "execution_count": null,
      "outputs": [
        {
          "output_type": "execute_result",
          "data": {
            "text/plain": [
              "{'input_ids': torch.Size([1, 500]),\n",
              " 'attention_mask': torch.Size([1, 500]),\n",
              " 'labels': torch.Size([1, 500])}"
            ]
          },
          "metadata": {},
          "execution_count": 16
        }
      ]
    },
    {
      "cell_type": "code",
      "source": [
        "optimizer = AdamW(model.parameters(), lr=5e-5)\n",
        "num_epochs = 2\n",
        "num_training_steps = num_epochs * len(train_dataloader)\n",
        "lr_scheduler = get_scheduler(\n",
        "    \"linear\",\n",
        "    optimizer=optimizer,\n",
        "    num_warmup_steps=0,\n",
        "    num_training_steps=num_training_steps,\n",
        ")"
      ],
      "metadata": {
        "id": "Ssl9qbDoleKY",
        "colab": {
          "base_uri": "https://localhost:8080/"
        },
        "outputId": "0f2436d2-96aa-4dfe-f96e-ac0d68b908fa"
      },
      "execution_count": null,
      "outputs": [
        {
          "output_type": "stream",
          "name": "stderr",
          "text": [
            "/usr/local/lib/python3.8/dist-packages/transformers/optimization.py:306: FutureWarning: This implementation of AdamW is deprecated and will be removed in a future version. Use the PyTorch implementation torch.optim.AdamW instead, or set `no_deprecation_warning=True` to disable this warning\n",
            "  warnings.warn(\n"
          ]
        }
      ]
    },
    {
      "cell_type": "code",
      "source": [
        "def postprocess(predictions, labels):\n",
        "    predictions = predictions.cpu().numpy()\n",
        "    labels = labels.cpu().numpy()\n",
        "\n",
        "    decoded_preds = tokenizer.batch_decode(predictions, skip_special_tokens=True)\n",
        "\n",
        "    # Replace -100 in the labels as we can't decode them.\n",
        "    labels = np.where(labels != -100, labels, tokenizer.pad_token_id)\n",
        "    decoded_labels = tokenizer.batch_decode(labels, skip_special_tokens=True)\n",
        "\n",
        "    # Some simple post-processing\n",
        "    decoded_preds = [pred.strip() for pred in decoded_preds]\n",
        "    decoded_labels = [[label.strip()] for label in decoded_labels]\n",
        "    return decoded_preds, decoded_labels"
      ],
      "metadata": {
        "id": "56LDO-Sv6zx0"
      },
      "execution_count": null,
      "outputs": []
    },
    {
      "cell_type": "code",
      "source": [
        "import gc\n",
        "gc.collect()\n",
        "torch.cuda.empty_cache()"
      ],
      "metadata": {
        "id": "Ivro4ut-v7Iw"
      },
      "execution_count": null,
      "outputs": []
    },
    {
      "cell_type": "code",
      "source": [
        "progress_bar = tqdm(range(num_training_steps))\n",
        "models_folder = '/content/sample_data'\n",
        "\n",
        "model.train()\n",
        "\n",
        "for epoch in range(num_epochs):\n",
        "    for batch in train_dataloader:\n",
        "        batch = {k: v.to(device) for k, v in batch.items()}\n",
        "        \n",
        "        outputs = model(**batch)\n",
        "        loss = outputs.loss\n",
        "        loss.backward()\n",
        "\n",
        "        optimizer.step()\n",
        "        lr_scheduler.step()\n",
        "        optimizer.zero_grad()\n",
        "        progress_bar.update(1)\n",
        "\n",
        "torch.save(model.state_dict(), os.path.join(models_folder, f\"alpha_quest.pt\"))\n"
      ],
      "metadata": {
        "id": "A9fM09X_Gi_n",
        "colab": {
          "base_uri": "https://localhost:8080/",
          "height": 81,
          "referenced_widgets": [
            "aad173d1f73544bca4b429cdb47b914a",
            "aa22c38d385d497f94ed4ab99cf03ec5",
            "81aa8af8158e4f1698ecb55e3efd4215",
            "4288c1f89d9e43adb034fc29478c0628",
            "1a85a84710ab483f85991fdfb7477c44",
            "47f32a143abc4ff4986c61d9658a76ba",
            "f3c5c322b1b64058a259aae933bd474c",
            "7632b33e70c3433ebc9a7633f4ff4ff2",
            "9a4be0d97de94707a3b9c55152923a1a",
            "95365d09095f459185297a063dc2bd1b",
            "d28a4fb43b8141beaec09f241b00ac71",
            "dd9baae9bb5e4d859552102acc3527a6",
            "19b6e1fdcbc0496785527f28d1072c36",
            "699e30c0eb984339baeeb6abb5c9a908",
            "9b9fb822d39d424c985091f1b8863e01",
            "84214aa91af746bbbd1ffcb5f65f6be7",
            "a21b75242d08441b91a05b2a9ceb7441",
            "3f633547ea174d798270085ae41c7b77",
            "e32263fe87ee423fb8d726a634813acf",
            "55db0b48609f43b68d6f27926b4fc99f",
            "5949b8df704e4ca38b65d69aad4fc205",
            "5a575b1217e548639174a126f626f99a"
          ]
        },
        "outputId": "67043307-cc32-4476-f456-d8bb44103a5b"
      },
      "execution_count": null,
      "outputs": [
        {
          "output_type": "display_data",
          "data": {
            "text/plain": [
              "  0%|          | 0/26268 [00:00<?, ?it/s]"
            ],
            "application/vnd.jupyter.widget-view+json": {
              "version_major": 2,
              "version_minor": 0,
              "model_id": "aad173d1f73544bca4b429cdb47b914a"
            }
          },
          "metadata": {}
        },
        {
          "output_type": "display_data",
          "data": {
            "text/plain": [
              "Downloading builder script:   0%|          | 0.00/8.15k [00:00<?, ?B/s]"
            ],
            "application/vnd.jupyter.widget-view+json": {
              "version_major": 2,
              "version_minor": 0,
              "model_id": "dd9baae9bb5e4d859552102acc3527a6"
            }
          },
          "metadata": {}
        }
      ]
    },
    {
      "cell_type": "code",
      "source": [
        "bleu_score = evaluate.load(\"sacrebleu\")\n",
        "rouge_score = evaluate.load(\"rouge\")\n",
        "model.eval()\n",
        "for batch in tqdm(eval_dataloader):\n",
        "    with torch.no_grad():\n",
        "        generated_tokens = model.generate(\n",
        "            batch[\"input_ids\"].to(device),\n",
        "            attention_mask=batch[\"attention_mask\"].to(device),\n",
        "            max_length=1024,\n",
        "        )\n",
        "    labels = batch[\"labels\"]\n",
        "\n",
        "    decoded_preds, decoded_labels = postprocess(generated_tokens, labels)\n",
        "    bleu_score.add_batch(predictions=decoded_preds, references=decoded_labels)\n",
        "    rouge_score.add_batch(predictions=decoded_preds, references=decoded_labels)\n",
        "\n",
        "bleu_results = bleu_score.compute()\n",
        "rouge_results = rouge_score.compute()"
      ],
      "metadata": {
        "id": "Bpt0FOFVjmRh"
      },
      "execution_count": null,
      "outputs": []
    },
    {
      "cell_type": "code",
      "source": [
        "print(f\"BLEU score: {bleu_results['score']:.2f}\")"
      ],
      "metadata": {
        "colab": {
          "base_uri": "https://localhost:8080/"
        },
        "id": "LasuZ7daVB-V",
        "outputId": "38e77999-93ad-4c4f-b5c3-aa3ea8ac5725"
      },
      "execution_count": null,
      "outputs": [
        {
          "output_type": "stream",
          "name": "stdout",
          "text": [
            "BLEU score: 8.54\n"
          ]
        }
      ]
    },
    {
      "cell_type": "code",
      "source": [
        "print(f\"ROUGE score: {rouge_results}\")"
      ],
      "metadata": {
        "colab": {
          "base_uri": "https://localhost:8080/"
        },
        "id": "J76xa1UXhga1",
        "outputId": "df3f1bc7-b7c6-46b1-dedb-8a6cdabfe1dd"
      },
      "execution_count": null,
      "outputs": [
        {
          "output_type": "stream",
          "name": "stdout",
          "text": [
            "ROUGE score: {'rouge1': 0.14555384550458877, 'rouge2': 0.03904931485646447, 'rougeL': 0.09847428187161715, 'rougeLsum': 0.1383524471724976}\n"
          ]
        }
      ]
    },
    {
      "cell_type": "code",
      "source": [
        "rouge_score = evaluate.load(\"rouge\")"
      ],
      "metadata": {
        "id": "GvJATUvganQX"
      },
      "execution_count": null,
      "outputs": []
    },
    {
      "cell_type": "code",
      "source": [
        "tokenized_data[\"test\"][:2]"
      ],
      "metadata": {
        "id": "6ITGFA4IXFPJ"
      },
      "execution_count": null,
      "outputs": []
    },
    {
      "cell_type": "code",
      "source": [
        "model_path = os.path.join(models_folder, f\"alpha_quest.pt\")\n",
        "model.load_state_dict(torch.load(model_path))\n",
        "\n",
        "prompts = tokenized_data[\"test\"][:5]\n",
        "\n",
        "sample_outputs = model.generate(prompts[\"input_ids\"].to(device), \n",
        "                                attention_mask=prompts[\"attention_mask\"].to(device), \n",
        "                                max_length=1024\n",
        "                                )\n"
      ],
      "metadata": {
        "id": "wqGw_1zT8_3r",
        "colab": {
          "base_uri": "https://localhost:8080/"
        },
        "outputId": "1685cc0e-156f-42f8-95fa-2c7000cda700"
      },
      "execution_count": null,
      "outputs": [
        {
          "output_type": "stream",
          "name": "stderr",
          "text": [
            "Setting `pad_token_id` to `eos_token_id`:50256 for open-end generation.\n"
          ]
        }
      ]
    },
    {
      "cell_type": "code",
      "source": [
        "for i, output in enumerate(sample_outputs ):\n",
        "    print(\"{}: {}\".format(i, tokenizer.decode(output, skip_special_tokens=True)))"
      ],
      "metadata": {
        "id": "5xoAqBAg-rc-"
      },
      "execution_count": null,
      "outputs": []
    },
    {
      "cell_type": "markdown",
      "source": [
        "# Generated Sequences\n",
        "\n",
        "1. \n",
        "\n",
        "```\n",
        "#include <bits/stdc++.h>\n",
        "using namespace std;\n",
        "bool isrange(int second, int first, int n, int m) {\n",
        "  if (0 <= second && second < n && 0 <= first && first < m) return true;\n",
        "  return false;\n",
        "}\n",
        "int dy[4] = {1, 0, -1, 0}, dx[4] = {0, 1, 0, -1},\n",
        "    ddy[8] = {1, 0, -1, 0, 1, 1, -1, -1}, ddx[8] = {0, 1, 0, -1, 1, -1, 1, -1};\n",
        "const int MAX = 1e6 + 100;\n",
        "int n, m;\n",
        "pair<string, int> s[MAX];\n",
        "bool comp(pair<string, int>& a, pair<string, int>& b) {\n",
        "  for (int e = 0; e < m; e++) {\n",
        "    if (e % 2 == 0) {\n",
        "      if (a.first[e]!= b.first[e]) return a.first[e] < b.first[e];\n",
        "    } else {\n",
        "      if (a.first[e]!= b.first[e]) return a.first[e] > b.first[e];\n",
        "    }\n",
        "  }\n",
        "  return true;\n",
        "}\n",
        "void solve(int tc) {\n",
        "  cin >> n >> m;\n",
        "  for (int e = 0; e < n; e++) {\n",
        "    cin >> s[e].first;\n",
        "    s[e].second = e + 1;\n",
        "  }\n",
        "  sort(s, s + n, comp);\n",
        "  for (int e = 0; e < n; e++) cout << s[e].second << \" \";\n",
        "}\n",
        "int main(void) {\n",
        "  ios_base ::sync_with_stdio(false);\n",
        "  cin.tie(NULL);\n",
        "  cout.tie(NULL);\n",
        "  int tc = 1;\n",
        "  for (int test_number = 1; test_number <= tc; test_number++) {\n",
        "```\n",
        "\n",
        " 2.\n",
        "\n",
        "```\n",
        "#include <bits/stdc++.h>\n",
        "const double PI = 3.1415926535897932384626433;\n",
        "const int KL = 3e5 + 10;\n",
        "const long long MOD = 1e9 + 7;\n",
        "using namespace std;\n",
        "struct point {\n",
        "  long double x, y;\n",
        "  void go(long long x1, long long y1) {\n",
        "    x = x1;\n",
        "    y = y1;\n",
        "  }\n",
        "  void read() { cin >> x >> y; }\n",
        "  point operator-(point b) { return point{x - b.x, y - b.y}; }\n",
        "  point operator+(point b) { return point{x + b.x, y + b.y}; }\n",
        "};\n",
        "long double fnd_angle(point p) {\n",
        "  long double len = sqrt(p.x * p.x + p.y * p.y);\n",
        "  long double angle = acos(fabs(p.x) / len);\n",
        "  if (p.y < 0) {\n",
        "    if (p.x >= 0)\n",
        "      angle = 2 * PI - angle;\n",
        "    else\n",
        "      angle += PI;\n",
        "  } else if (p.x < 0)\n",
        "    angle = PI - angle;\n",
        "  return angle;\n",
        "}\n",
        "int n, k;\n",
        "vector<point> A;\n",
        "vector<pair<long double, long double>> a, b;\n",
        "multiset<long double> s;\n",
        "bool ok(long double mid) {\n",
        "  a.clear();\n",
        "  b.clear();\n",
        "  for (int i = 0; i < n; i++) {\n",
        "    long double dis = sqrt(A[i].x * A[i].x + A[i].y * A[i].y);\n",
        "    if (dis > 2 * mid) continue;\n",
        "    long double angle = fnd_angle(A[i]);\n",
        "    long double angle2 = acos(dis / (2.0 * mid));\n",
        "    a.push_back({angle - angle2, 2 * angle2});\n",
        "    b.push_back\n",
        "```\n",
        "3.\n",
        "\n",
        "```\n",
        "#include <bits/stdc++.h>\n",
        "using namespace std;\n",
        "struct comp {\n",
        "  double a, b;\n",
        "  comp() {}\n",
        "  comp(double x) : a(x), b(0) {}\n",
        "  comp(double x, double y) : a(x), b(y) {}\n",
        "};\n",
        "inline comp operator+(comp a, comp b) { return comp(a.a + b.a, a.b + b.b); }\n",
        "inline comp operator-(comp a, comp b) { return comp(a.a - b.a, a.b - b.b); }\n",
        "inline comp operator*(comp a, comp b) {\n",
        "  return comp(a.a * b.a - a.b * b.b, a.a * b.b + a.b * b.a);\n",
        "}\n",
        "ostream& operator<<(ostream& a, comp b) {\n",
        "  a << \"(\" << b.a << \",\" << b.b << \")\";\n",
        "  return a;\n",
        "}\n",
        "int K;\n",
        "comp w[2][1234567];\n",
        "comp qp(comp a, long long b) {\n",
        "  comp x = 1;\n",
        "  while (b) {\n",
        "    if (b & 1) x = x * a;\n",
        "    a = a * a;\n",
        "    b >>= 1;\n",
        "  }\n",
        "  return x;\n",
        "}\n",
        "long long qp(long long a, long long b, int MOD) {\n",
        "  long long x = 1;\n",
        "  a %= MOD;\n",
        "  while (b) {\n",
        "    if (b & 1) x = x * a % MOD;\n",
        "    a = a * a % MOD;\n",
        "    b >>= 1;\n",
        "  }\n",
        "  return x;\n",
        "}\n",
        "const double pi = acos(-1);\n",
        "int rev[1234567];\n",
        "void init(int s) {\n",
        "  for (K = 1; K < s; K <<= 1)\n",
        "    ;\n",
        "  {\n",
        "    double t = pi * 2 / K;\n",
        "    for (int i = 0; i <= K; ++i) w[0][i] = comp(cos(t\n",
        " [PAD] \n",
        "```\n",
        "\n",
        "4.\n",
        "\n",
        "\n",
        "\n",
        "```\n",
        "s = input()\n",
        "ways = 0\n",
        "if len(s) == 1:\n",
        "    if s in ['_', 'X', '0']:\n",
        "        ways = 1\n",
        "elif len(s) == 2:\n",
        "    if s in ['25', '50', '75']:\n",
        "        ways = 1\n",
        "    elif s in ['__', '_X', 'X_']:\n",
        "        ways = 3\n",
        "    elif s == '_0':\n",
        "        ways = 1\n",
        "    elif s in ['_5', 'X5']:\n",
        "        ways = 2\n",
        "    elif s in ['2_', '5_', '7_', '2X', '5X', '7X', 'X0']:\n",
        "        ways = 1\n",
        "else:\n",
        "    d = s[-2:]\n",
        "    s = s[:-2]\n",
        "    if d in ['00', '25', '50', '75', '__', '_X', 'X_', 'XX', '_0', '_5', '0_', '2_', '5_', '7_', 'X0', 'X5', '0X', '2X', '5X', '7X']:\n",
        "        ways = 1\n",
        "        xfound = False\n",
        "\n",
        "        if d in ['__', '_X', 'X_']:\n",
        "            ways *= 4\n",
        "        elif d in ['_0', '_5', 'X0', 'X5']:\n",
        "            ways *= 2\n",
        "        \n",
        "        if 'X' in d:\n",
        "            xfound = True\n",
        "        \n",
        "        if s[0] == '_' or (s[0] ==\n",
        "```\n",
        "\n",
        "\n",
        "5\n",
        "\n",
        "\n",
        "\n",
        "```\n",
        "#include <bits/stdc++.h>\n",
        "#pragma GCC optimize(2, 3, \"Ofast\")\n",
        "using namespace std;\n",
        "template <typename T1, typename T2>\n",
        "void ckmin(T1 &a, T2 b) {\n",
        "  if (a > b) a = b;\n",
        "}\n",
        "template <typename T1, typename T2>\n",
        "void ckmax(T1 &a, T2 b) {\n",
        "  if (a < b) a = b;\n",
        "}\n",
        "int read() {\n",
        "  int x = 0, f = 0;\n",
        "  char ch = getchar();\n",
        "  while (!isdigit(ch)) f |= ch == '-', ch = getchar();\n",
        "  while (isdigit(ch)) x = 10 * x + ch - '0', ch = getchar();\n",
        "  return f? -x : x;\n",
        "}\n",
        "template <typename T>\n",
        "void print(T x) {\n",
        "  if (x < 0) putchar('-'), x = -x;\n",
        "  if (x >= 10) print(x / 10);\n",
        "  putchar(x % 10 + '0');\n",
        "}\n",
        "template <typename T>\n",
        "void print(T x, char let) {\n",
        "  print(x), putchar(let);\n",
        "}\n",
        "const int N = 200005;\n",
        "const int mod = 1e9 + 7;\n",
        "const int inf = 1e9;\n",
        "inline void add(int &x, int y) {\n",
        "  x += y;\n",
        "  if (x >= mod) x -= mod;\n",
        "}\n",
        "inline void sub(int &x, int y) {\n",
        "  x -= y;\n",
        "  if (x < 0) x += mod;\n",
        "}\n",
        "vector<pair<int, int> > adj[N];\n",
        "int a[N], n, LIM;\n",
        "bool ban[N];\n",
        "int sz[N], maxp[N], sumsz, rt;\n",
        "void getrt(int u, int fa) {\n",
        "  maxp[u] = 0, sz[u] = 1;\n",
        "  for (auto v : adj[u]) {\n",
        "    if (ban[v.first] || v.first ==\n",
        "\n",
        "```\n",
        "\n",
        "\n",
        "\n",
        "\n",
        "\n",
        "\n",
        "\n",
        "\n"
      ],
      "metadata": {
        "id": "SNc7CgNaxGFb"
      }
    },
    {
      "cell_type": "code",
      "source": [
        "from google.colab import drive\n",
        "drive.mount('/content/drive')"
      ],
      "metadata": {
        "colab": {
          "base_uri": "https://localhost:8080/"
        },
        "id": "cxHkRN2Xk_JN",
        "outputId": "614bf1e0-dc9e-4cc5-f983-04885596fd8a"
      },
      "execution_count": null,
      "outputs": [
        {
          "output_type": "stream",
          "name": "stdout",
          "text": [
            "Mounted at /content/drive\n"
          ]
        }
      ]
    },
    {
      "cell_type": "code",
      "source": [
        "!cp \"/content/sample_data/alpha_quest.pt\" \"/content/drive/My Drive\""
      ],
      "metadata": {
        "id": "b-rYReEflKJq"
      },
      "execution_count": null,
      "outputs": []
    }
  ],
  "metadata": {
    "colab": {
      "provenance": [],
      "include_colab_link": true
    },
    "gpuClass": "standard",
    "kernelspec": {
      "display_name": "Python 3",
      "name": "python3"
    },
    "language_info": {
      "name": "python"
    },
    "widgets": {
      "application/vnd.jupyter.widget-state+json": {
        "aad173d1f73544bca4b429cdb47b914a": {
          "model_module": "@jupyter-widgets/controls",
          "model_name": "HBoxModel",
          "model_module_version": "1.5.0",
          "state": {
            "_dom_classes": [],
            "_model_module": "@jupyter-widgets/controls",
            "_model_module_version": "1.5.0",
            "_model_name": "HBoxModel",
            "_view_count": null,
            "_view_module": "@jupyter-widgets/controls",
            "_view_module_version": "1.5.0",
            "_view_name": "HBoxView",
            "box_style": "",
            "children": [
              "IPY_MODEL_aa22c38d385d497f94ed4ab99cf03ec5",
              "IPY_MODEL_81aa8af8158e4f1698ecb55e3efd4215",
              "IPY_MODEL_4288c1f89d9e43adb034fc29478c0628"
            ],
            "layout": "IPY_MODEL_1a85a84710ab483f85991fdfb7477c44"
          }
        },
        "aa22c38d385d497f94ed4ab99cf03ec5": {
          "model_module": "@jupyter-widgets/controls",
          "model_name": "HTMLModel",
          "model_module_version": "1.5.0",
          "state": {
            "_dom_classes": [],
            "_model_module": "@jupyter-widgets/controls",
            "_model_module_version": "1.5.0",
            "_model_name": "HTMLModel",
            "_view_count": null,
            "_view_module": "@jupyter-widgets/controls",
            "_view_module_version": "1.5.0",
            "_view_name": "HTMLView",
            "description": "",
            "description_tooltip": null,
            "layout": "IPY_MODEL_47f32a143abc4ff4986c61d9658a76ba",
            "placeholder": "​",
            "style": "IPY_MODEL_f3c5c322b1b64058a259aae933bd474c",
            "value": "100%"
          }
        },
        "81aa8af8158e4f1698ecb55e3efd4215": {
          "model_module": "@jupyter-widgets/controls",
          "model_name": "FloatProgressModel",
          "model_module_version": "1.5.0",
          "state": {
            "_dom_classes": [],
            "_model_module": "@jupyter-widgets/controls",
            "_model_module_version": "1.5.0",
            "_model_name": "FloatProgressModel",
            "_view_count": null,
            "_view_module": "@jupyter-widgets/controls",
            "_view_module_version": "1.5.0",
            "_view_name": "ProgressView",
            "bar_style": "",
            "description": "",
            "description_tooltip": null,
            "layout": "IPY_MODEL_7632b33e70c3433ebc9a7633f4ff4ff2",
            "max": 26268,
            "min": 0,
            "orientation": "horizontal",
            "style": "IPY_MODEL_9a4be0d97de94707a3b9c55152923a1a",
            "value": 26268
          }
        },
        "4288c1f89d9e43adb034fc29478c0628": {
          "model_module": "@jupyter-widgets/controls",
          "model_name": "HTMLModel",
          "model_module_version": "1.5.0",
          "state": {
            "_dom_classes": [],
            "_model_module": "@jupyter-widgets/controls",
            "_model_module_version": "1.5.0",
            "_model_name": "HTMLModel",
            "_view_count": null,
            "_view_module": "@jupyter-widgets/controls",
            "_view_module_version": "1.5.0",
            "_view_name": "HTMLView",
            "description": "",
            "description_tooltip": null,
            "layout": "IPY_MODEL_95365d09095f459185297a063dc2bd1b",
            "placeholder": "​",
            "style": "IPY_MODEL_d28a4fb43b8141beaec09f241b00ac71",
            "value": " 26268/26268 [3:45:21&lt;00:00,  1.94it/s]"
          }
        },
        "1a85a84710ab483f85991fdfb7477c44": {
          "model_module": "@jupyter-widgets/base",
          "model_name": "LayoutModel",
          "model_module_version": "1.2.0",
          "state": {
            "_model_module": "@jupyter-widgets/base",
            "_model_module_version": "1.2.0",
            "_model_name": "LayoutModel",
            "_view_count": null,
            "_view_module": "@jupyter-widgets/base",
            "_view_module_version": "1.2.0",
            "_view_name": "LayoutView",
            "align_content": null,
            "align_items": null,
            "align_self": null,
            "border": null,
            "bottom": null,
            "display": null,
            "flex": null,
            "flex_flow": null,
            "grid_area": null,
            "grid_auto_columns": null,
            "grid_auto_flow": null,
            "grid_auto_rows": null,
            "grid_column": null,
            "grid_gap": null,
            "grid_row": null,
            "grid_template_areas": null,
            "grid_template_columns": null,
            "grid_template_rows": null,
            "height": null,
            "justify_content": null,
            "justify_items": null,
            "left": null,
            "margin": null,
            "max_height": null,
            "max_width": null,
            "min_height": null,
            "min_width": null,
            "object_fit": null,
            "object_position": null,
            "order": null,
            "overflow": null,
            "overflow_x": null,
            "overflow_y": null,
            "padding": null,
            "right": null,
            "top": null,
            "visibility": null,
            "width": null
          }
        },
        "47f32a143abc4ff4986c61d9658a76ba": {
          "model_module": "@jupyter-widgets/base",
          "model_name": "LayoutModel",
          "model_module_version": "1.2.0",
          "state": {
            "_model_module": "@jupyter-widgets/base",
            "_model_module_version": "1.2.0",
            "_model_name": "LayoutModel",
            "_view_count": null,
            "_view_module": "@jupyter-widgets/base",
            "_view_module_version": "1.2.0",
            "_view_name": "LayoutView",
            "align_content": null,
            "align_items": null,
            "align_self": null,
            "border": null,
            "bottom": null,
            "display": null,
            "flex": null,
            "flex_flow": null,
            "grid_area": null,
            "grid_auto_columns": null,
            "grid_auto_flow": null,
            "grid_auto_rows": null,
            "grid_column": null,
            "grid_gap": null,
            "grid_row": null,
            "grid_template_areas": null,
            "grid_template_columns": null,
            "grid_template_rows": null,
            "height": null,
            "justify_content": null,
            "justify_items": null,
            "left": null,
            "margin": null,
            "max_height": null,
            "max_width": null,
            "min_height": null,
            "min_width": null,
            "object_fit": null,
            "object_position": null,
            "order": null,
            "overflow": null,
            "overflow_x": null,
            "overflow_y": null,
            "padding": null,
            "right": null,
            "top": null,
            "visibility": null,
            "width": null
          }
        },
        "f3c5c322b1b64058a259aae933bd474c": {
          "model_module": "@jupyter-widgets/controls",
          "model_name": "DescriptionStyleModel",
          "model_module_version": "1.5.0",
          "state": {
            "_model_module": "@jupyter-widgets/controls",
            "_model_module_version": "1.5.0",
            "_model_name": "DescriptionStyleModel",
            "_view_count": null,
            "_view_module": "@jupyter-widgets/base",
            "_view_module_version": "1.2.0",
            "_view_name": "StyleView",
            "description_width": ""
          }
        },
        "7632b33e70c3433ebc9a7633f4ff4ff2": {
          "model_module": "@jupyter-widgets/base",
          "model_name": "LayoutModel",
          "model_module_version": "1.2.0",
          "state": {
            "_model_module": "@jupyter-widgets/base",
            "_model_module_version": "1.2.0",
            "_model_name": "LayoutModel",
            "_view_count": null,
            "_view_module": "@jupyter-widgets/base",
            "_view_module_version": "1.2.0",
            "_view_name": "LayoutView",
            "align_content": null,
            "align_items": null,
            "align_self": null,
            "border": null,
            "bottom": null,
            "display": null,
            "flex": null,
            "flex_flow": null,
            "grid_area": null,
            "grid_auto_columns": null,
            "grid_auto_flow": null,
            "grid_auto_rows": null,
            "grid_column": null,
            "grid_gap": null,
            "grid_row": null,
            "grid_template_areas": null,
            "grid_template_columns": null,
            "grid_template_rows": null,
            "height": null,
            "justify_content": null,
            "justify_items": null,
            "left": null,
            "margin": null,
            "max_height": null,
            "max_width": null,
            "min_height": null,
            "min_width": null,
            "object_fit": null,
            "object_position": null,
            "order": null,
            "overflow": null,
            "overflow_x": null,
            "overflow_y": null,
            "padding": null,
            "right": null,
            "top": null,
            "visibility": null,
            "width": null
          }
        },
        "9a4be0d97de94707a3b9c55152923a1a": {
          "model_module": "@jupyter-widgets/controls",
          "model_name": "ProgressStyleModel",
          "model_module_version": "1.5.0",
          "state": {
            "_model_module": "@jupyter-widgets/controls",
            "_model_module_version": "1.5.0",
            "_model_name": "ProgressStyleModel",
            "_view_count": null,
            "_view_module": "@jupyter-widgets/base",
            "_view_module_version": "1.2.0",
            "_view_name": "StyleView",
            "bar_color": null,
            "description_width": ""
          }
        },
        "95365d09095f459185297a063dc2bd1b": {
          "model_module": "@jupyter-widgets/base",
          "model_name": "LayoutModel",
          "model_module_version": "1.2.0",
          "state": {
            "_model_module": "@jupyter-widgets/base",
            "_model_module_version": "1.2.0",
            "_model_name": "LayoutModel",
            "_view_count": null,
            "_view_module": "@jupyter-widgets/base",
            "_view_module_version": "1.2.0",
            "_view_name": "LayoutView",
            "align_content": null,
            "align_items": null,
            "align_self": null,
            "border": null,
            "bottom": null,
            "display": null,
            "flex": null,
            "flex_flow": null,
            "grid_area": null,
            "grid_auto_columns": null,
            "grid_auto_flow": null,
            "grid_auto_rows": null,
            "grid_column": null,
            "grid_gap": null,
            "grid_row": null,
            "grid_template_areas": null,
            "grid_template_columns": null,
            "grid_template_rows": null,
            "height": null,
            "justify_content": null,
            "justify_items": null,
            "left": null,
            "margin": null,
            "max_height": null,
            "max_width": null,
            "min_height": null,
            "min_width": null,
            "object_fit": null,
            "object_position": null,
            "order": null,
            "overflow": null,
            "overflow_x": null,
            "overflow_y": null,
            "padding": null,
            "right": null,
            "top": null,
            "visibility": null,
            "width": null
          }
        },
        "d28a4fb43b8141beaec09f241b00ac71": {
          "model_module": "@jupyter-widgets/controls",
          "model_name": "DescriptionStyleModel",
          "model_module_version": "1.5.0",
          "state": {
            "_model_module": "@jupyter-widgets/controls",
            "_model_module_version": "1.5.0",
            "_model_name": "DescriptionStyleModel",
            "_view_count": null,
            "_view_module": "@jupyter-widgets/base",
            "_view_module_version": "1.2.0",
            "_view_name": "StyleView",
            "description_width": ""
          }
        },
        "dd9baae9bb5e4d859552102acc3527a6": {
          "model_module": "@jupyter-widgets/controls",
          "model_name": "HBoxModel",
          "model_module_version": "1.5.0",
          "state": {
            "_dom_classes": [],
            "_model_module": "@jupyter-widgets/controls",
            "_model_module_version": "1.5.0",
            "_model_name": "HBoxModel",
            "_view_count": null,
            "_view_module": "@jupyter-widgets/controls",
            "_view_module_version": "1.5.0",
            "_view_name": "HBoxView",
            "box_style": "",
            "children": [
              "IPY_MODEL_19b6e1fdcbc0496785527f28d1072c36",
              "IPY_MODEL_699e30c0eb984339baeeb6abb5c9a908",
              "IPY_MODEL_9b9fb822d39d424c985091f1b8863e01"
            ],
            "layout": "IPY_MODEL_84214aa91af746bbbd1ffcb5f65f6be7"
          }
        },
        "19b6e1fdcbc0496785527f28d1072c36": {
          "model_module": "@jupyter-widgets/controls",
          "model_name": "HTMLModel",
          "model_module_version": "1.5.0",
          "state": {
            "_dom_classes": [],
            "_model_module": "@jupyter-widgets/controls",
            "_model_module_version": "1.5.0",
            "_model_name": "HTMLModel",
            "_view_count": null,
            "_view_module": "@jupyter-widgets/controls",
            "_view_module_version": "1.5.0",
            "_view_name": "HTMLView",
            "description": "",
            "description_tooltip": null,
            "layout": "IPY_MODEL_a21b75242d08441b91a05b2a9ceb7441",
            "placeholder": "​",
            "style": "IPY_MODEL_3f633547ea174d798270085ae41c7b77",
            "value": "Downloading builder script: 100%"
          }
        },
        "699e30c0eb984339baeeb6abb5c9a908": {
          "model_module": "@jupyter-widgets/controls",
          "model_name": "FloatProgressModel",
          "model_module_version": "1.5.0",
          "state": {
            "_dom_classes": [],
            "_model_module": "@jupyter-widgets/controls",
            "_model_module_version": "1.5.0",
            "_model_name": "FloatProgressModel",
            "_view_count": null,
            "_view_module": "@jupyter-widgets/controls",
            "_view_module_version": "1.5.0",
            "_view_name": "ProgressView",
            "bar_style": "success",
            "description": "",
            "description_tooltip": null,
            "layout": "IPY_MODEL_e32263fe87ee423fb8d726a634813acf",
            "max": 8146,
            "min": 0,
            "orientation": "horizontal",
            "style": "IPY_MODEL_55db0b48609f43b68d6f27926b4fc99f",
            "value": 8146
          }
        },
        "9b9fb822d39d424c985091f1b8863e01": {
          "model_module": "@jupyter-widgets/controls",
          "model_name": "HTMLModel",
          "model_module_version": "1.5.0",
          "state": {
            "_dom_classes": [],
            "_model_module": "@jupyter-widgets/controls",
            "_model_module_version": "1.5.0",
            "_model_name": "HTMLModel",
            "_view_count": null,
            "_view_module": "@jupyter-widgets/controls",
            "_view_module_version": "1.5.0",
            "_view_name": "HTMLView",
            "description": "",
            "description_tooltip": null,
            "layout": "IPY_MODEL_5949b8df704e4ca38b65d69aad4fc205",
            "placeholder": "​",
            "style": "IPY_MODEL_5a575b1217e548639174a126f626f99a",
            "value": " 8.15k/8.15k [00:00&lt;00:00, 570kB/s]"
          }
        },
        "84214aa91af746bbbd1ffcb5f65f6be7": {
          "model_module": "@jupyter-widgets/base",
          "model_name": "LayoutModel",
          "model_module_version": "1.2.0",
          "state": {
            "_model_module": "@jupyter-widgets/base",
            "_model_module_version": "1.2.0",
            "_model_name": "LayoutModel",
            "_view_count": null,
            "_view_module": "@jupyter-widgets/base",
            "_view_module_version": "1.2.0",
            "_view_name": "LayoutView",
            "align_content": null,
            "align_items": null,
            "align_self": null,
            "border": null,
            "bottom": null,
            "display": null,
            "flex": null,
            "flex_flow": null,
            "grid_area": null,
            "grid_auto_columns": null,
            "grid_auto_flow": null,
            "grid_auto_rows": null,
            "grid_column": null,
            "grid_gap": null,
            "grid_row": null,
            "grid_template_areas": null,
            "grid_template_columns": null,
            "grid_template_rows": null,
            "height": null,
            "justify_content": null,
            "justify_items": null,
            "left": null,
            "margin": null,
            "max_height": null,
            "max_width": null,
            "min_height": null,
            "min_width": null,
            "object_fit": null,
            "object_position": null,
            "order": null,
            "overflow": null,
            "overflow_x": null,
            "overflow_y": null,
            "padding": null,
            "right": null,
            "top": null,
            "visibility": null,
            "width": null
          }
        },
        "a21b75242d08441b91a05b2a9ceb7441": {
          "model_module": "@jupyter-widgets/base",
          "model_name": "LayoutModel",
          "model_module_version": "1.2.0",
          "state": {
            "_model_module": "@jupyter-widgets/base",
            "_model_module_version": "1.2.0",
            "_model_name": "LayoutModel",
            "_view_count": null,
            "_view_module": "@jupyter-widgets/base",
            "_view_module_version": "1.2.0",
            "_view_name": "LayoutView",
            "align_content": null,
            "align_items": null,
            "align_self": null,
            "border": null,
            "bottom": null,
            "display": null,
            "flex": null,
            "flex_flow": null,
            "grid_area": null,
            "grid_auto_columns": null,
            "grid_auto_flow": null,
            "grid_auto_rows": null,
            "grid_column": null,
            "grid_gap": null,
            "grid_row": null,
            "grid_template_areas": null,
            "grid_template_columns": null,
            "grid_template_rows": null,
            "height": null,
            "justify_content": null,
            "justify_items": null,
            "left": null,
            "margin": null,
            "max_height": null,
            "max_width": null,
            "min_height": null,
            "min_width": null,
            "object_fit": null,
            "object_position": null,
            "order": null,
            "overflow": null,
            "overflow_x": null,
            "overflow_y": null,
            "padding": null,
            "right": null,
            "top": null,
            "visibility": null,
            "width": null
          }
        },
        "3f633547ea174d798270085ae41c7b77": {
          "model_module": "@jupyter-widgets/controls",
          "model_name": "DescriptionStyleModel",
          "model_module_version": "1.5.0",
          "state": {
            "_model_module": "@jupyter-widgets/controls",
            "_model_module_version": "1.5.0",
            "_model_name": "DescriptionStyleModel",
            "_view_count": null,
            "_view_module": "@jupyter-widgets/base",
            "_view_module_version": "1.2.0",
            "_view_name": "StyleView",
            "description_width": ""
          }
        },
        "e32263fe87ee423fb8d726a634813acf": {
          "model_module": "@jupyter-widgets/base",
          "model_name": "LayoutModel",
          "model_module_version": "1.2.0",
          "state": {
            "_model_module": "@jupyter-widgets/base",
            "_model_module_version": "1.2.0",
            "_model_name": "LayoutModel",
            "_view_count": null,
            "_view_module": "@jupyter-widgets/base",
            "_view_module_version": "1.2.0",
            "_view_name": "LayoutView",
            "align_content": null,
            "align_items": null,
            "align_self": null,
            "border": null,
            "bottom": null,
            "display": null,
            "flex": null,
            "flex_flow": null,
            "grid_area": null,
            "grid_auto_columns": null,
            "grid_auto_flow": null,
            "grid_auto_rows": null,
            "grid_column": null,
            "grid_gap": null,
            "grid_row": null,
            "grid_template_areas": null,
            "grid_template_columns": null,
            "grid_template_rows": null,
            "height": null,
            "justify_content": null,
            "justify_items": null,
            "left": null,
            "margin": null,
            "max_height": null,
            "max_width": null,
            "min_height": null,
            "min_width": null,
            "object_fit": null,
            "object_position": null,
            "order": null,
            "overflow": null,
            "overflow_x": null,
            "overflow_y": null,
            "padding": null,
            "right": null,
            "top": null,
            "visibility": null,
            "width": null
          }
        },
        "55db0b48609f43b68d6f27926b4fc99f": {
          "model_module": "@jupyter-widgets/controls",
          "model_name": "ProgressStyleModel",
          "model_module_version": "1.5.0",
          "state": {
            "_model_module": "@jupyter-widgets/controls",
            "_model_module_version": "1.5.0",
            "_model_name": "ProgressStyleModel",
            "_view_count": null,
            "_view_module": "@jupyter-widgets/base",
            "_view_module_version": "1.2.0",
            "_view_name": "StyleView",
            "bar_color": null,
            "description_width": ""
          }
        },
        "5949b8df704e4ca38b65d69aad4fc205": {
          "model_module": "@jupyter-widgets/base",
          "model_name": "LayoutModel",
          "model_module_version": "1.2.0",
          "state": {
            "_model_module": "@jupyter-widgets/base",
            "_model_module_version": "1.2.0",
            "_model_name": "LayoutModel",
            "_view_count": null,
            "_view_module": "@jupyter-widgets/base",
            "_view_module_version": "1.2.0",
            "_view_name": "LayoutView",
            "align_content": null,
            "align_items": null,
            "align_self": null,
            "border": null,
            "bottom": null,
            "display": null,
            "flex": null,
            "flex_flow": null,
            "grid_area": null,
            "grid_auto_columns": null,
            "grid_auto_flow": null,
            "grid_auto_rows": null,
            "grid_column": null,
            "grid_gap": null,
            "grid_row": null,
            "grid_template_areas": null,
            "grid_template_columns": null,
            "grid_template_rows": null,
            "height": null,
            "justify_content": null,
            "justify_items": null,
            "left": null,
            "margin": null,
            "max_height": null,
            "max_width": null,
            "min_height": null,
            "min_width": null,
            "object_fit": null,
            "object_position": null,
            "order": null,
            "overflow": null,
            "overflow_x": null,
            "overflow_y": null,
            "padding": null,
            "right": null,
            "top": null,
            "visibility": null,
            "width": null
          }
        },
        "5a575b1217e548639174a126f626f99a": {
          "model_module": "@jupyter-widgets/controls",
          "model_name": "DescriptionStyleModel",
          "model_module_version": "1.5.0",
          "state": {
            "_model_module": "@jupyter-widgets/controls",
            "_model_module_version": "1.5.0",
            "_model_name": "DescriptionStyleModel",
            "_view_count": null,
            "_view_module": "@jupyter-widgets/base",
            "_view_module_version": "1.2.0",
            "_view_name": "StyleView",
            "description_width": ""
          }
        }
      }
    },
    "accelerator": "GPU"
  },
  "nbformat": 4,
  "nbformat_minor": 0
}